{
 "cells": [
  {
   "cell_type": "code",
   "execution_count": null,
   "metadata": {},
   "outputs": [],
   "source": [
    "! wget \"https://drive.google.com/open?id=11uOcLIcktmXJgX9zTqJR6tH_FZztcxSC\""
   ]
  },
  {
   "cell_type": "markdown",
   "metadata": {
    "slideshow": {
     "slide_type": "slide"
    }
   },
   "source": [
    "# Autoencoder"
   ]
  },
  {
   "cell_type": "markdown",
   "metadata": {
    "slideshow": {
     "slide_type": "-"
    }
   },
   "source": [
    "Os modelos de `Autoencoders` podem ser aplicados a diversos tipos de ploblemas. São eles:\n",
    "\n",
    "- Reconstruir um sinal, através de uma parte dele\n",
    "- Compressão\n",
    "- Identificação de outliers\n",
    "- Recomendação de conteúdo (Collaborative Filtering)\n",
    "- Redução de dimensionalidade\n",
    "\n",
    "Este notebook apresenta alguns exemplos da utilização de `Autoencoders`."
   ]
  },
  {
   "cell_type": "markdown",
   "metadata": {
    "slideshow": {
     "slide_type": "skip"
    }
   },
   "source": [
    "## Pacotes"
   ]
  },
  {
   "cell_type": "code",
   "execution_count": 1,
   "metadata": {
    "slideshow": {
     "slide_type": "skip"
    }
   },
   "outputs": [],
   "source": [
    "import os\n",
    "import numpy\n",
    "import pandas\n",
    "import matplotlib.pyplot as plt\n",
    "\n",
    "from tensorflow.keras import regularizers\n",
    "from tensorflow.keras.models import Model\n",
    "from tensorflow.keras.datasets import mnist\n",
    "from tensorflow.keras.layers import Input, Dense\n",
    "\n",
    "from sklearn import datasets\n",
    "from sklearn.decomposition import PCA\n",
    "from sklearn.metrics import confusion_matrix\n",
    "from sklearn.model_selection import train_test_split\n",
    "from sklearn.preprocessing import MinMaxScaler, StandardScaler\n",
    "\n",
    "%matplotlib inline"
   ]
  },
  {
   "cell_type": "markdown",
   "metadata": {
    "slideshow": {
     "slide_type": "skip"
    }
   },
   "source": [
    "## Configurações"
   ]
  },
  {
   "cell_type": "code",
   "execution_count": 2,
   "metadata": {
    "slideshow": {
     "slide_type": "skip"
    }
   },
   "outputs": [],
   "source": [
    "plt.rcParams['figure.figsize'] = (12, 6)\n",
    "os.environ['TF_CPP_MIN_LOG_LEVEL'] = '3'"
   ]
  },
  {
   "cell_type": "markdown",
   "metadata": {
    "slideshow": {
     "slide_type": "slide"
    }
   },
   "source": [
    "## Aplicação 1: Reconstrução"
   ]
  },
  {
   "cell_type": "markdown",
   "metadata": {
    "slideshow": {
     "slide_type": "-"
    }
   },
   "source": [
    "<div style=\"text-align:justify\">\n",
    "A seguir vamos ilustar um caso de reconstrução de um sinal de entrada. Existem muitas aplicações que justificam esse tipo abordagem através de Autoencoders, pois muitas vezes precisamos reconstruir um sinal a partir de uma parte (pedaço) do sinal original.\n",
    "</div>"
   ]
  },
  {
   "cell_type": "markdown",
   "metadata": {
    "slideshow": {
     "slide_type": "-"
    }
   },
   "source": [
    "<img src=\"images/autoencoder.jpg\">"
   ]
  },
  {
   "cell_type": "markdown",
   "metadata": {
    "slideshow": {
     "slide_type": "slide"
    }
   },
   "source": [
    "### Descarregando Dados"
   ]
  },
  {
   "cell_type": "code",
   "execution_count": 3,
   "metadata": {
    "slideshow": {
     "slide_type": "-"
    }
   },
   "outputs": [
    {
     "name": "stdout",
     "output_type": "stream",
     "text": [
      "Downloading data from https://storage.googleapis.com/tensorflow/tf-keras-datasets/mnist.npz\n",
      "11493376/11490434 [==============================] - 4s 0us/step\n",
      "(60000, 28, 28)\n",
      "(10000, 28, 28)\n"
     ]
    }
   ],
   "source": [
    "(X_train, _), (X_test, _) = mnist.load_data()\n",
    "print(X_train.shape)\n",
    "print(X_test.shape)"
   ]
  },
  {
   "cell_type": "markdown",
   "metadata": {
    "slideshow": {
     "slide_type": "slide"
    }
   },
   "source": [
    "### Pré-processamentos"
   ]
  },
  {
   "cell_type": "code",
   "execution_count": 4,
   "metadata": {
    "slideshow": {
     "slide_type": "-"
    }
   },
   "outputs": [
    {
     "name": "stdout",
     "output_type": "stream",
     "text": [
      "(60000, 784)\n",
      "(10000, 784)\n"
     ]
    }
   ],
   "source": [
    "X_train = X_train.astype('float32') / 255.\n",
    "X_test = X_test.astype('float32') / 255.\n",
    "X_train = X_train.reshape((len(X_train), numpy.prod(X_train.shape[1:])))\n",
    "X_test = X_test.reshape((len(X_test), numpy.prod(X_test.shape[1:])))\n",
    "print (X_train.shape)\n",
    "print (X_test.shape)"
   ]
  },
  {
   "cell_type": "markdown",
   "metadata": {
    "slideshow": {
     "slide_type": "slide"
    }
   },
   "source": [
    "### Encoder"
   ]
  },
  {
   "cell_type": "code",
   "execution_count": 5,
   "metadata": {
    "slideshow": {
     "slide_type": "-"
    }
   },
   "outputs": [
    {
     "name": "stdout",
     "output_type": "stream",
     "text": [
      "WARNING:tensorflow:From /opt/conda/lib/python3.7/site-packages/tensorflow/python/ops/resource_variable_ops.py:435: colocate_with (from tensorflow.python.framework.ops) is deprecated and will be removed in a future version.\n",
      "Instructions for updating:\n",
      "Colocations handled automatically by placer.\n"
     ]
    }
   ],
   "source": [
    "encoding_dim = 32\n",
    "input_img = Input(shape = (784,))\n",
    "\n",
    "encoded = Dense(encoding_dim, activation='relu')(input_img)\n",
    "decoded = Dense(784, activation='sigmoid')(encoded)\n",
    "\n",
    "autoencoder = Model(input_img, decoded)\n",
    "autoencoder.compile(optimizer='adadelta', loss='binary_crossentropy')"
   ]
  },
  {
   "cell_type": "markdown",
   "metadata": {
    "slideshow": {
     "slide_type": "slide"
    }
   },
   "source": [
    "### Treinando Modelo"
   ]
  },
  {
   "cell_type": "code",
   "execution_count": 6,
   "metadata": {
    "slideshow": {
     "slide_type": "-"
    }
   },
   "outputs": [
    {
     "name": "stdout",
     "output_type": "stream",
     "text": [
      "Train on 60000 samples, validate on 10000 samples\n",
      "WARNING:tensorflow:From /opt/conda/lib/python3.7/site-packages/tensorflow/python/ops/math_ops.py:3066: to_int32 (from tensorflow.python.ops.math_ops) is deprecated and will be removed in a future version.\n",
      "Instructions for updating:\n",
      "Use tf.cast instead.\n",
      "Epoch 1/150\n",
      "60000/60000 [==============================] - 4s 74us/sample - loss: 0.3608 - val_loss: 0.2714\n",
      "Epoch 2/150\n",
      "60000/60000 [==============================] - 3s 47us/sample - loss: 0.2641 - val_loss: 0.2529\n",
      "Epoch 3/150\n",
      "60000/60000 [==============================] - 4s 67us/sample - loss: 0.2428 - val_loss: 0.2302\n",
      "Epoch 4/150\n",
      "60000/60000 [==============================] - 4s 65us/sample - loss: 0.2228 - val_loss: 0.2127\n",
      "Epoch 5/150\n",
      "60000/60000 [==============================] - 3s 57us/sample - loss: 0.2076 - val_loss: 0.1999\n",
      "Epoch 6/150\n",
      "60000/60000 [==============================] - 3s 46us/sample - loss: 0.1966 - val_loss: 0.1907\n",
      "Epoch 7/150\n",
      "60000/60000 [==============================] - 3s 46us/sample - loss: 0.1883 - val_loss: 0.1833\n",
      "Epoch 8/150\n",
      "60000/60000 [==============================] - 3s 46us/sample - loss: 0.1815 - val_loss: 0.1769\n",
      "Epoch 9/150\n",
      "60000/60000 [==============================] - 3s 46us/sample - loss: 0.1755 - val_loss: 0.1714\n",
      "Epoch 10/150\n",
      "60000/60000 [==============================] - 3s 46us/sample - loss: 0.1703 - val_loss: 0.1664\n",
      "Epoch 11/150\n",
      "60000/60000 [==============================] - 3s 46us/sample - loss: 0.1655 - val_loss: 0.1619\n",
      "Epoch 12/150\n",
      "60000/60000 [==============================] - 3s 46us/sample - loss: 0.1612 - val_loss: 0.1578\n",
      "Epoch 13/150\n",
      "60000/60000 [==============================] - 3s 46us/sample - loss: 0.1572 - val_loss: 0.1539\n",
      "Epoch 14/150\n",
      "60000/60000 [==============================] - 3s 50us/sample - loss: 0.1535 - val_loss: 0.1503\n",
      "Epoch 15/150\n",
      "60000/60000 [==============================] - 3s 51us/sample - loss: 0.1501 - val_loss: 0.1471\n",
      "Epoch 16/150\n",
      "60000/60000 [==============================] - 4s 70us/sample - loss: 0.1470 - val_loss: 0.1442\n",
      "Epoch 17/150\n",
      "60000/60000 [==============================] - 4s 61us/sample - loss: 0.1442 - val_loss: 0.1413\n",
      "Epoch 18/150\n",
      "60000/60000 [==============================] - 3s 50us/sample - loss: 0.1415 - val_loss: 0.1388\n",
      "Epoch 19/150\n",
      "60000/60000 [==============================] - 3s 49us/sample - loss: 0.1391 - val_loss: 0.1365\n",
      "Epoch 20/150\n",
      "60000/60000 [==============================] - 3s 47us/sample - loss: 0.1368 - val_loss: 0.1344\n",
      "Epoch 21/150\n",
      "60000/60000 [==============================] - 3s 47us/sample - loss: 0.1347 - val_loss: 0.1322\n",
      "Epoch 22/150\n",
      "60000/60000 [==============================] - 3s 47us/sample - loss: 0.1327 - val_loss: 0.1303\n",
      "Epoch 23/150\n",
      "60000/60000 [==============================] - 3s 47us/sample - loss: 0.1308 - val_loss: 0.1285\n",
      "Epoch 24/150\n",
      "60000/60000 [==============================] - 3s 53us/sample - loss: 0.1291 - val_loss: 0.1268\n",
      "Epoch 25/150\n",
      "60000/60000 [==============================] - 3s 50us/sample - loss: 0.1274 - val_loss: 0.1251\n",
      "Epoch 26/150\n",
      "60000/60000 [==============================] - 3s 57us/sample - loss: 0.1258 - val_loss: 0.1235\n",
      "Epoch 27/150\n",
      "60000/60000 [==============================] - 3s 51us/sample - loss: 0.1242 - val_loss: 0.1220\n",
      "Epoch 28/150\n",
      "60000/60000 [==============================] - 3s 58us/sample - loss: 0.1228 - val_loss: 0.1207\n",
      "Epoch 29/150\n",
      "60000/60000 [==============================] - 4s 61us/sample - loss: 0.1214 - val_loss: 0.1193\n",
      "Epoch 30/150\n",
      "60000/60000 [==============================] - 3s 47us/sample - loss: 0.1201 - val_loss: 0.1180\n",
      "Epoch 31/150\n",
      "60000/60000 [==============================] - 3s 46us/sample - loss: 0.1188 - val_loss: 0.1168\n",
      "Epoch 32/150\n",
      "60000/60000 [==============================] - 3s 48us/sample - loss: 0.1177 - val_loss: 0.1156\n",
      "Epoch 33/150\n",
      "60000/60000 [==============================] - 3s 47us/sample - loss: 0.1166 - val_loss: 0.1145\n",
      "Epoch 34/150\n",
      "60000/60000 [==============================] - 3s 46us/sample - loss: 0.1155 - val_loss: 0.1135\n",
      "Epoch 35/150\n",
      "60000/60000 [==============================] - 3s 46us/sample - loss: 0.1145 - val_loss: 0.1126\n",
      "Epoch 36/150\n",
      "60000/60000 [==============================] - 3s 46us/sample - loss: 0.1136 - val_loss: 0.1116\n",
      "Epoch 37/150\n",
      "60000/60000 [==============================] - 3s 47us/sample - loss: 0.1127 - val_loss: 0.1108\n",
      "Epoch 38/150\n",
      "60000/60000 [==============================] - 3s 47us/sample - loss: 0.1119 - val_loss: 0.1100\n",
      "Epoch 39/150\n",
      "60000/60000 [==============================] - 3s 55us/sample - loss: 0.1111 - val_loss: 0.1092\n",
      "Epoch 40/150\n",
      "60000/60000 [==============================] - 3s 57us/sample - loss: 0.1103 - val_loss: 0.1085\n",
      "Epoch 41/150\n",
      "60000/60000 [==============================] - 4s 64us/sample - loss: 0.1096 - val_loss: 0.1078\n",
      "Epoch 42/150\n",
      "60000/60000 [==============================] - 3s 53us/sample - loss: 0.1090 - val_loss: 0.1071\n",
      "Epoch 43/150\n",
      "60000/60000 [==============================] - 3s 48us/sample - loss: 0.1084 - val_loss: 0.1065\n",
      "Epoch 44/150\n",
      "60000/60000 [==============================] - 3s 45us/sample - loss: 0.1078 - val_loss: 0.1060\n",
      "Epoch 45/150\n",
      "60000/60000 [==============================] - 3s 45us/sample - loss: 0.1072 - val_loss: 0.1054\n",
      "Epoch 46/150\n",
      "60000/60000 [==============================] - 3s 45us/sample - loss: 0.1067 - val_loss: 0.1049\n",
      "Epoch 47/150\n",
      "60000/60000 [==============================] - 3s 46us/sample - loss: 0.1062 - val_loss: 0.1044\n",
      "Epoch 48/150\n",
      "60000/60000 [==============================] - 3s 45us/sample - loss: 0.1057 - val_loss: 0.1039\n",
      "Epoch 49/150\n",
      "60000/60000 [==============================] - 3s 46us/sample - loss: 0.1052 - val_loss: 0.1035\n",
      "Epoch 50/150\n",
      "60000/60000 [==============================] - 3s 46us/sample - loss: 0.1048 - val_loss: 0.1031\n",
      "Epoch 51/150\n",
      "60000/60000 [==============================] - 3s 45us/sample - loss: 0.1044 - val_loss: 0.1027\n",
      "Epoch 52/150\n",
      "60000/60000 [==============================] - 3s 48us/sample - loss: 0.1040 - val_loss: 0.1023\n",
      "Epoch 53/150\n",
      "60000/60000 [==============================] - 3s 57us/sample - loss: 0.1036 - val_loss: 0.1019\n",
      "Epoch 54/150\n",
      "60000/60000 [==============================] - 4s 59us/sample - loss: 0.1033 - val_loss: 0.1016\n",
      "Epoch 55/150\n",
      "60000/60000 [==============================] - 3s 50us/sample - loss: 0.1030 - val_loss: 0.1013\n",
      "Epoch 56/150\n",
      "60000/60000 [==============================] - 3s 46us/sample - loss: 0.1026 - val_loss: 0.1010\n",
      "Epoch 57/150\n",
      "60000/60000 [==============================] - 3s 45us/sample - loss: 0.1024 - val_loss: 0.1007\n",
      "Epoch 58/150\n",
      "60000/60000 [==============================] - 3s 45us/sample - loss: 0.1021 - val_loss: 0.1004\n",
      "Epoch 59/150\n",
      "60000/60000 [==============================] - 3s 45us/sample - loss: 0.1018 - val_loss: 0.1002\n",
      "Epoch 60/150\n",
      "60000/60000 [==============================] - 3s 45us/sample - loss: 0.1016 - val_loss: 0.1000\n",
      "Epoch 61/150\n",
      "60000/60000 [==============================] - 3s 46us/sample - loss: 0.1013 - val_loss: 0.0997\n",
      "Epoch 62/150\n",
      "60000/60000 [==============================] - 3s 45us/sample - loss: 0.1011 - val_loss: 0.0995\n",
      "Epoch 63/150\n",
      "60000/60000 [==============================] - 3s 45us/sample - loss: 0.1009 - val_loss: 0.0993\n",
      "Epoch 64/150\n",
      "60000/60000 [==============================] - 3s 45us/sample - loss: 0.1007 - val_loss: 0.0991\n",
      "Epoch 65/150\n",
      "60000/60000 [==============================] - 3s 45us/sample - loss: 0.1005 - val_loss: 0.0989\n",
      "Epoch 66/150\n",
      "60000/60000 [==============================] - 3s 52us/sample - loss: 0.1003 - val_loss: 0.0988\n",
      "Epoch 67/150\n",
      "60000/60000 [==============================] - 4s 58us/sample - loss: 0.1001 - val_loss: 0.0986\n",
      "Epoch 68/150\n",
      "60000/60000 [==============================] - 3s 52us/sample - loss: 0.1000 - val_loss: 0.0984\n",
      "Epoch 69/150\n",
      "60000/60000 [==============================] - 3s 45us/sample - loss: 0.0998 - val_loss: 0.0983\n",
      "Epoch 70/150\n",
      "60000/60000 [==============================] - 3s 46us/sample - loss: 0.0997 - val_loss: 0.0981\n",
      "Epoch 71/150\n",
      "60000/60000 [==============================] - 3s 46us/sample - loss: 0.0995 - val_loss: 0.0980\n",
      "Epoch 72/150\n",
      "60000/60000 [==============================] - 3s 45us/sample - loss: 0.0994 - val_loss: 0.0979\n",
      "Epoch 73/150\n",
      "60000/60000 [==============================] - 3s 45us/sample - loss: 0.0993 - val_loss: 0.0977\n",
      "Epoch 74/150\n",
      "60000/60000 [==============================] - 3s 44us/sample - loss: 0.0991 - val_loss: 0.0976\n",
      "Epoch 75/150\n",
      "60000/60000 [==============================] - 3s 44us/sample - loss: 0.0990 - val_loss: 0.0975\n",
      "Epoch 76/150\n",
      "60000/60000 [==============================] - 3s 45us/sample - loss: 0.0989 - val_loss: 0.0974\n",
      "Epoch 77/150\n",
      "60000/60000 [==============================] - 3s 44us/sample - loss: 0.0988 - val_loss: 0.0973\n",
      "Epoch 78/150\n",
      "60000/60000 [==============================] - 3s 45us/sample - loss: 0.0987 - val_loss: 0.0972\n",
      "Epoch 79/150\n",
      "60000/60000 [==============================] - 3s 55us/sample - loss: 0.0986 - val_loss: 0.0971\n",
      "Epoch 80/150\n",
      "60000/60000 [==============================] - 5s 76us/sample - loss: 0.0985 - val_loss: 0.0970\n",
      "Epoch 81/150\n",
      "60000/60000 [==============================] - 4s 65us/sample - loss: 0.0984 - val_loss: 0.0969\n",
      "Epoch 82/150\n",
      "60000/60000 [==============================] - 3s 47us/sample - loss: 0.0983 - val_loss: 0.0968\n",
      "Epoch 83/150\n",
      "60000/60000 [==============================] - 3s 44us/sample - loss: 0.0982 - val_loss: 0.0967\n",
      "Epoch 84/150\n",
      "60000/60000 [==============================] - 3s 44us/sample - loss: 0.0981 - val_loss: 0.0967\n",
      "Epoch 85/150\n",
      "60000/60000 [==============================] - 3s 45us/sample - loss: 0.0981 - val_loss: 0.0966\n",
      "Epoch 86/150\n",
      "60000/60000 [==============================] - 3s 45us/sample - loss: 0.0980 - val_loss: 0.0965\n",
      "Epoch 87/150\n",
      "60000/60000 [==============================] - 3s 45us/sample - loss: 0.0979 - val_loss: 0.0964\n",
      "Epoch 88/150\n",
      "60000/60000 [==============================] - 3s 45us/sample - loss: 0.0978 - val_loss: 0.0964\n",
      "Epoch 89/150\n",
      "60000/60000 [==============================] - 3s 44us/sample - loss: 0.0978 - val_loss: 0.0963\n",
      "Epoch 90/150\n",
      "60000/60000 [==============================] - 3s 46us/sample - loss: 0.0977 - val_loss: 0.0963\n",
      "Epoch 91/150\n",
      "60000/60000 [==============================] - 3s 47us/sample - loss: 0.0977 - val_loss: 0.0962\n",
      "Epoch 92/150\n",
      "60000/60000 [==============================] - 4s 63us/sample - loss: 0.0976 - val_loss: 0.0961\n",
      "Epoch 93/150\n",
      "60000/60000 [==============================] - 4s 65us/sample - loss: 0.0975 - val_loss: 0.0961\n",
      "Epoch 94/150\n",
      "60000/60000 [==============================] - 3s 58us/sample - loss: 0.0975 - val_loss: 0.0961\n",
      "Epoch 95/150\n",
      "60000/60000 [==============================] - 3s 50us/sample - loss: 0.0974 - val_loss: 0.0960\n",
      "Epoch 96/150\n",
      "60000/60000 [==============================] - 3s 44us/sample - loss: 0.0974 - val_loss: 0.0959\n",
      "Epoch 97/150\n",
      "60000/60000 [==============================] - 3s 49us/sample - loss: 0.0973 - val_loss: 0.0959\n",
      "Epoch 98/150\n",
      "60000/60000 [==============================] - 3s 51us/sample - loss: 0.0973 - val_loss: 0.0959\n",
      "Epoch 99/150\n",
      "60000/60000 [==============================] - 3s 44us/sample - loss: 0.0973 - val_loss: 0.0958\n",
      "Epoch 100/150\n",
      "60000/60000 [==============================] - 3s 44us/sample - loss: 0.0972 - val_loss: 0.0958\n",
      "Epoch 101/150\n",
      "60000/60000 [==============================] - 3s 43us/sample - loss: 0.0972 - val_loss: 0.0957\n",
      "Epoch 102/150\n",
      "60000/60000 [==============================] - 3s 43us/sample - loss: 0.0971 - val_loss: 0.0957\n",
      "Epoch 103/150\n",
      "60000/60000 [==============================] - 3s 44us/sample - loss: 0.0971 - val_loss: 0.0957\n",
      "Epoch 104/150\n",
      "60000/60000 [==============================] - 3s 44us/sample - loss: 0.0970 - val_loss: 0.0956\n",
      "Epoch 105/150\n",
      "60000/60000 [==============================] - 3s 50us/sample - loss: 0.0970 - val_loss: 0.0956\n",
      "Epoch 106/150\n",
      "60000/60000 [==============================] - 3s 50us/sample - loss: 0.0970 - val_loss: 0.0955\n",
      "Epoch 107/150\n",
      "60000/60000 [==============================] - 3s 46us/sample - loss: 0.0969 - val_loss: 0.0955\n",
      "Epoch 108/150\n",
      "60000/60000 [==============================] - 3s 45us/sample - loss: 0.0969 - val_loss: 0.0955\n",
      "Epoch 109/150\n",
      "60000/60000 [==============================] - 3s 45us/sample - loss: 0.0969 - val_loss: 0.0954\n",
      "Epoch 110/150\n",
      "60000/60000 [==============================] - 3s 44us/sample - loss: 0.0968 - val_loss: 0.0954\n",
      "Epoch 111/150\n",
      "60000/60000 [==============================] - 3s 44us/sample - loss: 0.0968 - val_loss: 0.0954\n",
      "Epoch 112/150\n",
      "60000/60000 [==============================] - 3s 45us/sample - loss: 0.0968 - val_loss: 0.0953\n",
      "Epoch 113/150\n",
      "60000/60000 [==============================] - 3s 46us/sample - loss: 0.0967 - val_loss: 0.0953\n",
      "Epoch 114/150\n",
      "60000/60000 [==============================] - 3s 47us/sample - loss: 0.0967 - val_loss: 0.0953\n",
      "Epoch 115/150\n",
      "60000/60000 [==============================] - 3s 46us/sample - loss: 0.0967 - val_loss: 0.0953\n",
      "Epoch 116/150\n",
      "60000/60000 [==============================] - 3s 46us/sample - loss: 0.0966 - val_loss: 0.0952\n",
      "Epoch 117/150\n",
      "60000/60000 [==============================] - 3s 44us/sample - loss: 0.0966 - val_loss: 0.0952\n",
      "Epoch 118/150\n",
      "60000/60000 [==============================] - 3s 44us/sample - loss: 0.0966 - val_loss: 0.0952\n",
      "Epoch 119/150\n",
      "60000/60000 [==============================] - 3s 44us/sample - loss: 0.0966 - val_loss: 0.0952\n",
      "Epoch 120/150\n",
      "60000/60000 [==============================] - 3s 44us/sample - loss: 0.0965 - val_loss: 0.0951\n",
      "Epoch 121/150\n",
      "60000/60000 [==============================] - 3s 45us/sample - loss: 0.0965 - val_loss: 0.0951\n",
      "Epoch 122/150\n",
      "60000/60000 [==============================] - 3s 44us/sample - loss: 0.0965 - val_loss: 0.0951\n",
      "Epoch 123/150\n",
      "60000/60000 [==============================] - 3s 44us/sample - loss: 0.0965 - val_loss: 0.0951\n",
      "Epoch 124/150\n",
      "60000/60000 [==============================] - 3s 45us/sample - loss: 0.0964 - val_loss: 0.0950\n",
      "Epoch 125/150\n",
      "60000/60000 [==============================] - 3s 45us/sample - loss: 0.0964 - val_loss: 0.0950\n",
      "Epoch 126/150\n",
      "60000/60000 [==============================] - 3s 44us/sample - loss: 0.0964 - val_loss: 0.0950\n",
      "Epoch 127/150\n",
      "60000/60000 [==============================] - 3s 45us/sample - loss: 0.0964 - val_loss: 0.0950\n",
      "Epoch 128/150\n",
      "60000/60000 [==============================] - 3s 44us/sample - loss: 0.0963 - val_loss: 0.0950\n",
      "Epoch 129/150\n",
      "60000/60000 [==============================] - 3s 44us/sample - loss: 0.0963 - val_loss: 0.0949\n",
      "Epoch 130/150\n",
      "60000/60000 [==============================] - 3s 44us/sample - loss: 0.0963 - val_loss: 0.0949\n",
      "Epoch 131/150\n",
      "60000/60000 [==============================] - 3s 56us/sample - loss: 0.0963 - val_loss: 0.0949\n",
      "Epoch 132/150\n",
      "60000/60000 [==============================] - 4s 70us/sample - loss: 0.0962 - val_loss: 0.0949\n",
      "Epoch 133/150\n",
      "60000/60000 [==============================] - 3s 52us/sample - loss: 0.0962 - val_loss: 0.0949\n",
      "Epoch 134/150\n",
      "60000/60000 [==============================] - 2s 41us/sample - loss: 0.0962 - val_loss: 0.0948\n",
      "Epoch 135/150\n",
      "60000/60000 [==============================] - 3s 56us/sample - loss: 0.0962 - val_loss: 0.0948\n",
      "Epoch 136/150\n",
      "60000/60000 [==============================] - 3s 58us/sample - loss: 0.0962 - val_loss: 0.0948\n",
      "Epoch 137/150\n",
      "60000/60000 [==============================] - 4s 62us/sample - loss: 0.0961 - val_loss: 0.0948\n",
      "Epoch 138/150\n",
      "60000/60000 [==============================] - 2s 41us/sample - loss: 0.0961 - val_loss: 0.0947\n",
      "Epoch 139/150\n",
      "60000/60000 [==============================] - 2s 36us/sample - loss: 0.0961 - val_loss: 0.0948\n",
      "Epoch 140/150\n",
      "60000/60000 [==============================] - 2s 36us/sample - loss: 0.0961 - val_loss: 0.0947\n",
      "Epoch 141/150\n",
      "60000/60000 [==============================] - 2s 37us/sample - loss: 0.0961 - val_loss: 0.0947\n",
      "Epoch 142/150\n",
      "60000/60000 [==============================] - 2s 40us/sample - loss: 0.0961 - val_loss: 0.0947\n",
      "Epoch 143/150\n",
      "60000/60000 [==============================] - 3s 56us/sample - loss: 0.0960 - val_loss: 0.0947\n",
      "Epoch 144/150\n",
      "60000/60000 [==============================] - 3s 56us/sample - loss: 0.0960 - val_loss: 0.0947\n",
      "Epoch 145/150\n",
      "60000/60000 [==============================] - 3s 47us/sample - loss: 0.0960 - val_loss: 0.0946\n",
      "Epoch 146/150\n",
      "60000/60000 [==============================] - 2s 36us/sample - loss: 0.0960 - val_loss: 0.0946\n",
      "Epoch 147/150\n",
      "60000/60000 [==============================] - 2s 39us/sample - loss: 0.0960 - val_loss: 0.0946\n"
     ]
    },
    {
     "name": "stdout",
     "output_type": "stream",
     "text": [
      "Epoch 148/150\n",
      "60000/60000 [==============================] - 2s 40us/sample - loss: 0.0960 - val_loss: 0.0946\n",
      "Epoch 149/150\n",
      "60000/60000 [==============================] - 2s 39us/sample - loss: 0.0959 - val_loss: 0.0946\n",
      "Epoch 150/150\n",
      "60000/60000 [==============================] - 2s 38us/sample - loss: 0.0959 - val_loss: 0.0946\n"
     ]
    },
    {
     "data": {
      "text/plain": [
       "<tensorflow.python.keras.callbacks.History at 0x7ff93eb75e48>"
      ]
     },
     "execution_count": 6,
     "metadata": {},
     "output_type": "execute_result"
    }
   ],
   "source": [
    "autoencoder.fit(X_train, X_train, epochs=150, batch_size=256, shuffle=True, validation_data=(X_test, X_test))"
   ]
  },
  {
   "cell_type": "markdown",
   "metadata": {
    "slideshow": {
     "slide_type": "slide"
    }
   },
   "source": [
    "### Decoder"
   ]
  },
  {
   "cell_type": "code",
   "execution_count": 7,
   "metadata": {
    "slideshow": {
     "slide_type": "-"
    }
   },
   "outputs": [],
   "source": [
    "encoder = Model(input_img, encoded)\n",
    "encoded_input = Input(shape = (encoding_dim,))\n",
    "decoder_layer = autoencoder.layers[-1]\n",
    "\n",
    "decoder = Model(encoded_input, decoder_layer(encoded_input))"
   ]
  },
  {
   "cell_type": "markdown",
   "metadata": {
    "slideshow": {
     "slide_type": "slide"
    }
   },
   "source": [
    "### Encoder e Decoder"
   ]
  },
  {
   "cell_type": "code",
   "execution_count": 8,
   "metadata": {
    "slideshow": {
     "slide_type": "-"
    }
   },
   "outputs": [],
   "source": [
    "encoded_imgs = encoder.predict(X_test)\n",
    "decoded_imgs = decoder.predict(encoded_imgs)"
   ]
  },
  {
   "cell_type": "code",
   "execution_count": 9,
   "metadata": {
    "slideshow": {
     "slide_type": "skip"
    }
   },
   "outputs": [],
   "source": [
    "def mnist_plot(input_imgs, output_imgs):\n",
    "    n = 10\n",
    "    plt.figure(figsize=(20, 4))\n",
    "\n",
    "    for i in range(n):    \n",
    "        # imagens originais\n",
    "        ax = plt.subplot(2, n, i + 1)\n",
    "        plt.imshow(input_imgs[i].reshape(28, 28))\n",
    "        plt.gray()\n",
    "        ax.get_xaxis().set_visible(False)\n",
    "        ax.get_yaxis().set_visible(False)\n",
    "\n",
    "        # imagens reconstruidas\n",
    "        ax = plt.subplot(2, n, i + 1 + n)\n",
    "        plt.imshow(output_imgs[i].reshape(28, 28))\n",
    "        plt.gray()\n",
    "        ax.get_xaxis().set_visible(False)\n",
    "        ax.get_yaxis().set_visible(False)\n",
    "\n",
    "    plt.show()"
   ]
  },
  {
   "cell_type": "code",
   "execution_count": 10,
   "metadata": {
    "scrolled": true,
    "slideshow": {
     "slide_type": "-"
    }
   },
   "outputs": [
    {
     "data": {
      "image/png": "[encoded data removed]",
      "text/plain": [
       "<Figure size 1440x288 with 20 Axes>"
      ]
     },
     "metadata": {
      "needs_background": "light"
     },
     "output_type": "display_data"
    }
   ],
   "source": [
    "mnist_plot(X_test, decoded_imgs)"
   ]
  },
  {
   "cell_type": "markdown",
   "metadata": {
    "slideshow": {
     "slide_type": "slide"
    }
   },
   "source": [
    "## Aplicação 2: Redução de Dimensionalidade"
   ]
  },
  {
   "cell_type": "markdown",
   "metadata": {
    "slideshow": {
     "slide_type": "-"
    }
   },
   "source": [
    "### Iris Dataset"
   ]
  },
  {
   "cell_type": "code",
   "execution_count": 11,
   "metadata": {
    "slideshow": {
     "slide_type": "-"
    }
   },
   "outputs": [],
   "source": [
    "dataset = datasets.load_iris()\n",
    "X = MinMaxScaler().fit_transform(dataset.data)\n",
    "y = dataset.target\n",
    "target_names = dataset.target_names"
   ]
  },
  {
   "cell_type": "markdown",
   "metadata": {
    "slideshow": {
     "slide_type": "skip"
    }
   },
   "source": [
    "### Função Auxiliar de Plotagem"
   ]
  },
  {
   "cell_type": "code",
   "execution_count": 12,
   "metadata": {
    "slideshow": {
     "slide_type": "skip"
    }
   },
   "outputs": [],
   "source": [
    "def plot_points(X, title, vtitle):\n",
    "    plt.figure()\n",
    "    colors = ['navy', 'turquoise', 'darkorange']\n",
    "    lw = 2\n",
    "    \n",
    "    for color, i, target_name in zip(colors, [0, 1, 2], target_names):\n",
    "        plt.scatter(X[y == i, 0], X[y == i, 1], color=color, alpha=1., lw=lw, label=target_name)\n",
    "\n",
    "    plt.legend(loc='best', shadow=False, scatterpoints=1)\n",
    "    plt.title(title)  \n",
    "    plt.xlabel(vtitle + \"1\")\n",
    "    plt.ylabel(vtitle + \"2\")\n",
    "    plt.show()"
   ]
  },
  {
   "cell_type": "markdown",
   "metadata": {
    "slideshow": {
     "slide_type": "slide"
    }
   },
   "source": [
    "### PCA"
   ]
  },
  {
   "cell_type": "markdown",
   "metadata": {
    "slideshow": {
     "slide_type": "-"
    }
   },
   "source": [
    "- Vantagens:\n",
    "  - Interpretabilidade\n",
    "  - Computacionamente barato\n",
    "\n",
    "- Desvantagens:\n",
    "  - Restrito as features lineares"
   ]
  },
  {
   "cell_type": "markdown",
   "metadata": {
    "slideshow": {
     "slide_type": "slide"
    }
   },
   "source": [
    "### PCA"
   ]
  },
  {
   "cell_type": "code",
   "execution_count": 13,
   "metadata": {
    "slideshow": {
     "slide_type": "-"
    }
   },
   "outputs": [
    {
     "data": {
      "image/png": "[encoded data removed]",
      "text/plain": [
       "<Figure size 864x432 with 1 Axes>"
      ]
     },
     "metadata": {
      "needs_background": "light"
     },
     "output_type": "display_data"
    }
   ],
   "source": [
    "pca = PCA(n_components=2)\n",
    "pca_transformed = pca.fit_transform(X)\n",
    "plot_points(pca_transformed[:,:2], 'PCA', 'PC')"
   ]
  },
  {
   "cell_type": "markdown",
   "metadata": {
    "slideshow": {
     "slide_type": "slide"
    }
   },
   "source": [
    "### Autoencoder"
   ]
  },
  {
   "cell_type": "markdown",
   "metadata": {
    "slideshow": {
     "slide_type": "-"
    }
   },
   "source": [
    "- Vantagens:\n",
    "  - Lida com features não lineares\n",
    "- Desvantagens:\n",
    "  - Não é interpretável\n",
    "  - Computacionalmente caro\n",
    "  - Propenso a overfitting"
   ]
  },
  {
   "cell_type": "markdown",
   "metadata": {
    "slideshow": {
     "slide_type": "slide"
    }
   },
   "source": [
    "### Autoencoder"
   ]
  },
  {
   "cell_type": "code",
   "execution_count": 14,
   "metadata": {
    "slideshow": {
     "slide_type": "-"
    }
   },
   "outputs": [
    {
     "name": "stdout",
     "output_type": "stream",
     "text": [
      "WARNING:tensorflow:From /opt/conda/lib/python3.7/site-packages/tensorflow/python/keras/utils/losses_utils.py:170: to_float (from tensorflow.python.ops.math_ops) is deprecated and will be removed in a future version.\n",
      "Instructions for updating:\n",
      "Use tf.cast instead.\n"
     ]
    }
   ],
   "source": [
    "input_dim = X.shape[1]\n",
    "encoding_dim = 2\n",
    "\n",
    "input_layer = Input(shape=(input_dim,))\n",
    "encoded = Dense(encoding_dim, activation='sigmoid')(input_layer)\n",
    "decoded = Dense(input_dim, activation='sigmoid')(encoded)\n",
    "autoencoder = Model(input_layer, decoded)\n",
    "autoencoder.compile(optimizer='adam', loss='mse')\n",
    "\n",
    "autoencoder.fit(X, X, epochs=2000, batch_size=16, shuffle=True, validation_split=0.1, verbose=0)\n",
    "\n",
    "encoded_data = autoencoder.predict(X)"
   ]
  },
  {
   "cell_type": "markdown",
   "metadata": {
    "slideshow": {
     "slide_type": "slide"
    }
   },
   "source": [
    "### Autoencoder"
   ]
  },
  {
   "cell_type": "code",
   "execution_count": 15,
   "metadata": {
    "slideshow": {
     "slide_type": "-"
    }
   },
   "outputs": [
    {
     "data": {
      "image/png": "[encoded data removed]",
      "text/plain": [
       "<Figure size 864x432 with 1 Axes>"
      ]
     },
     "metadata": {
      "needs_background": "light"
     },
     "output_type": "display_data"
    }
   ],
   "source": [
    "plot_points(encoded_data[:,:2], 'Linear AE', 'AE')"
   ]
  },
  {
   "cell_type": "markdown",
   "metadata": {
    "slideshow": {
     "slide_type": "slide"
    }
   },
   "source": [
    "### Conclusão"
   ]
  },
  {
   "cell_type": "markdown",
   "metadata": {
    "slideshow": {
     "slide_type": "-"
    }
   },
   "source": [
    "<div style=\"text-align:justify\">\n",
    "Não existe um modelo geral superior. A decisão entre os modelos PCA e Autoencoder deve ser feita de forma circunstancial. Em muitos casos, o PCA é superior. É mais rápido, mais interpretável e pode reduzir a dimensionalidade de seus dados da mesma forma que um Autoencoder. No entanto, se você estiver trabalhando com dados que exijam uma representação de recursos altamente não linear para um desempenho ou visualização adequados, o PCA poderá não ser insuficiente. Nesse caso, pode valer a pena gastar o esforço para treinar os Autoencoders.\n",
    "</div>"
   ]
  },
  {
   "cell_type": "markdown",
   "metadata": {
    "slideshow": {
     "slide_type": "slide"
    }
   },
   "source": [
    "## Aplicação 3: Detecção de Anomalias"
   ]
  },
  {
   "cell_type": "markdown",
   "metadata": {
    "slideshow": {
     "slide_type": "-"
    }
   },
   "source": [
    "<div style=\"text-align:justify\">\n",
    "O conjunto de dados que vamos usar pode ser baixado do Kaggle. Ele contém dados sobre transações com cartão de crédito ocorridas durante um período de dois dias, com 492 fraudes de 284.807 transações. Todas as variáveis no conjunto de dados são numéricas. Os dados foram transformados usando transformação PCA por motivos de privacidade. Os dois recursos que não foram alterados são Time and Amount.\n",
    "</div>"
   ]
  },
  {
   "cell_type": "markdown",
   "metadata": {
    "slideshow": {
     "slide_type": "slide"
    }
   },
   "source": [
    "### Carregando Dados"
   ]
  },
  {
   "cell_type": "code",
   "execution_count": 16,
   "metadata": {
    "slideshow": {
     "slide_type": "-"
    }
   },
   "outputs": [
    {
     "data": {
      "text/html": [
       "<div>\n",
       "<style scoped>\n",
       "    .dataframe tbody tr th:only-of-type {\n",
       "        vertical-align: middle;\n",
       "    }\n",
       "\n",
       "    .dataframe tbody tr th {\n",
       "        vertical-align: top;\n",
       "    }\n",
       "\n",
       "    .dataframe thead th {\n",
       "        text-align: right;\n",
       "    }\n",
       "</style>\n",
       "<table border=\"1\" class=\"dataframe\">\n",
       "  <thead>\n",
       "    <tr style=\"text-align: right;\">\n",
       "      <th></th>\n",
       "      <th>Time</th>\n",
       "      <th>V1</th>\n",
       "      <th>V2</th>\n",
       "      <th>V3</th>\n",
       "      <th>V4</th>\n",
       "      <th>V5</th>\n",
       "      <th>V6</th>\n",
       "      <th>V7</th>\n",
       "      <th>V8</th>\n",
       "      <th>V9</th>\n",
       "      <th>...</th>\n",
       "      <th>V21</th>\n",
       "      <th>V22</th>\n",
       "      <th>V23</th>\n",
       "      <th>V24</th>\n",
       "      <th>V25</th>\n",
       "      <th>V26</th>\n",
       "      <th>V27</th>\n",
       "      <th>V28</th>\n",
       "      <th>Amount</th>\n",
       "      <th>Class</th>\n",
       "    </tr>\n",
       "  </thead>\n",
       "  <tbody>\n",
       "    <tr>\n",
       "      <th>0</th>\n",
       "      <td>0.0</td>\n",
       "      <td>-1.359807</td>\n",
       "      <td>-0.072781</td>\n",
       "      <td>2.536347</td>\n",
       "      <td>1.378155</td>\n",
       "      <td>-0.338321</td>\n",
       "      <td>0.462388</td>\n",
       "      <td>0.239599</td>\n",
       "      <td>0.098698</td>\n",
       "      <td>0.363787</td>\n",
       "      <td>...</td>\n",
       "      <td>-0.018307</td>\n",
       "      <td>0.277838</td>\n",
       "      <td>-0.110474</td>\n",
       "      <td>0.066928</td>\n",
       "      <td>0.128539</td>\n",
       "      <td>-0.189115</td>\n",
       "      <td>0.133558</td>\n",
       "      <td>-0.021053</td>\n",
       "      <td>149.62</td>\n",
       "      <td>0</td>\n",
       "    </tr>\n",
       "    <tr>\n",
       "      <th>1</th>\n",
       "      <td>0.0</td>\n",
       "      <td>1.191857</td>\n",
       "      <td>0.266151</td>\n",
       "      <td>0.166480</td>\n",
       "      <td>0.448154</td>\n",
       "      <td>0.060018</td>\n",
       "      <td>-0.082361</td>\n",
       "      <td>-0.078803</td>\n",
       "      <td>0.085102</td>\n",
       "      <td>-0.255425</td>\n",
       "      <td>...</td>\n",
       "      <td>-0.225775</td>\n",
       "      <td>-0.638672</td>\n",
       "      <td>0.101288</td>\n",
       "      <td>-0.339846</td>\n",
       "      <td>0.167170</td>\n",
       "      <td>0.125895</td>\n",
       "      <td>-0.008983</td>\n",
       "      <td>0.014724</td>\n",
       "      <td>2.69</td>\n",
       "      <td>0</td>\n",
       "    </tr>\n",
       "    <tr>\n",
       "      <th>2</th>\n",
       "      <td>1.0</td>\n",
       "      <td>-1.358354</td>\n",
       "      <td>-1.340163</td>\n",
       "      <td>1.773209</td>\n",
       "      <td>0.379780</td>\n",
       "      <td>-0.503198</td>\n",
       "      <td>1.800499</td>\n",
       "      <td>0.791461</td>\n",
       "      <td>0.247676</td>\n",
       "      <td>-1.514654</td>\n",
       "      <td>...</td>\n",
       "      <td>0.247998</td>\n",
       "      <td>0.771679</td>\n",
       "      <td>0.909412</td>\n",
       "      <td>-0.689281</td>\n",
       "      <td>-0.327642</td>\n",
       "      <td>-0.139097</td>\n",
       "      <td>-0.055353</td>\n",
       "      <td>-0.059752</td>\n",
       "      <td>378.66</td>\n",
       "      <td>0</td>\n",
       "    </tr>\n",
       "    <tr>\n",
       "      <th>3</th>\n",
       "      <td>1.0</td>\n",
       "      <td>-0.966272</td>\n",
       "      <td>-0.185226</td>\n",
       "      <td>1.792993</td>\n",
       "      <td>-0.863291</td>\n",
       "      <td>-0.010309</td>\n",
       "      <td>1.247203</td>\n",
       "      <td>0.237609</td>\n",
       "      <td>0.377436</td>\n",
       "      <td>-1.387024</td>\n",
       "      <td>...</td>\n",
       "      <td>-0.108300</td>\n",
       "      <td>0.005274</td>\n",
       "      <td>-0.190321</td>\n",
       "      <td>-1.175575</td>\n",
       "      <td>0.647376</td>\n",
       "      <td>-0.221929</td>\n",
       "      <td>0.062723</td>\n",
       "      <td>0.061458</td>\n",
       "      <td>123.50</td>\n",
       "      <td>0</td>\n",
       "    </tr>\n",
       "    <tr>\n",
       "      <th>4</th>\n",
       "      <td>2.0</td>\n",
       "      <td>-1.158233</td>\n",
       "      <td>0.877737</td>\n",
       "      <td>1.548718</td>\n",
       "      <td>0.403034</td>\n",
       "      <td>-0.407193</td>\n",
       "      <td>0.095921</td>\n",
       "      <td>0.592941</td>\n",
       "      <td>-0.270533</td>\n",
       "      <td>0.817739</td>\n",
       "      <td>...</td>\n",
       "      <td>-0.009431</td>\n",
       "      <td>0.798278</td>\n",
       "      <td>-0.137458</td>\n",
       "      <td>0.141267</td>\n",
       "      <td>-0.206010</td>\n",
       "      <td>0.502292</td>\n",
       "      <td>0.219422</td>\n",
       "      <td>0.215153</td>\n",
       "      <td>69.99</td>\n",
       "      <td>0</td>\n",
       "    </tr>\n",
       "  </tbody>\n",
       "</table>\n",
       "<p>5 rows × 31 columns</p>\n",
       "</div>"
      ],
      "text/plain": [
       "   Time        V1        V2        V3        V4        V5        V6        V7  \\\n",
       "0   0.0 -1.359807 -0.072781  2.536347  1.378155 -0.338321  0.462388  0.239599   \n",
       "1   0.0  1.191857  0.266151  0.166480  0.448154  0.060018 -0.082361 -0.078803   \n",
       "2   1.0 -1.358354 -1.340163  1.773209  0.379780 -0.503198  1.800499  0.791461   \n",
       "3   1.0 -0.966272 -0.185226  1.792993 -0.863291 -0.010309  1.247203  0.237609   \n",
       "4   2.0 -1.158233  0.877737  1.548718  0.403034 -0.407193  0.095921  0.592941   \n",
       "\n",
       "         V8        V9  ...       V21       V22       V23       V24       V25  \\\n",
       "0  0.098698  0.363787  ... -0.018307  0.277838 -0.110474  0.066928  0.128539   \n",
       "1  0.085102 -0.255425  ... -0.225775 -0.638672  0.101288 -0.339846  0.167170   \n",
       "2  0.247676 -1.514654  ...  0.247998  0.771679  0.909412 -0.689281 -0.327642   \n",
       "3  0.377436 -1.387024  ... -0.108300  0.005274 -0.190321 -1.175575  0.647376   \n",
       "4 -0.270533  0.817739  ... -0.009431  0.798278 -0.137458  0.141267 -0.206010   \n",
       "\n",
       "        V26       V27       V28  Amount  Class  \n",
       "0 -0.189115  0.133558 -0.021053  149.62      0  \n",
       "1  0.125895 -0.008983  0.014724    2.69      0  \n",
       "2 -0.139097 -0.055353 -0.059752  378.66      0  \n",
       "3 -0.221929  0.062723  0.061458  123.50      0  \n",
       "4  0.502292  0.219422  0.215153   69.99      0  \n",
       "\n",
       "[5 rows x 31 columns]"
      ]
     },
     "execution_count": 16,
     "metadata": {},
     "output_type": "execute_result"
    }
   ],
   "source": [
    "data = pandas.read_csv('creditcard.csv')\n",
    "data.head(5)"
   ]
  },
  {
   "cell_type": "markdown",
   "metadata": {
    "slideshow": {
     "slide_type": "slide"
    }
   },
   "source": [
    "### Proporção"
   ]
  },
  {
   "cell_type": "code",
   "execution_count": 17,
   "metadata": {
    "slideshow": {
     "slide_type": "-"
    }
   },
   "outputs": [
    {
     "data": {
      "image/png": "[encoded data removed]",
      "text/plain": [
       "<Figure size 864x432 with 1 Axes>"
      ]
     },
     "metadata": {},
     "output_type": "display_data"
    }
   ],
   "source": [
    "sizes = data.groupby('Class')['Class'].count().sort_values(ascending=False).values.tolist()\n",
    "plt.pie(sizes, labels=['Normal', 'Fraud'], autopct='%.1f')\n",
    "my_circle = plt.Circle((0,0), 0.7, color='white')\n",
    "plt.gcf().gca().add_artist(my_circle)\n",
    " \n",
    "plt.show()"
   ]
  },
  {
   "cell_type": "markdown",
   "metadata": {
    "slideshow": {
     "slide_type": "slide"
    }
   },
   "source": [
    "### Preparando Dados"
   ]
  },
  {
   "cell_type": "markdown",
   "metadata": {
    "slideshow": {
     "slide_type": "-"
    }
   },
   "source": [
    "<div style=\"text-align:justify\">\n",
    "Treinar um Autoencoder para reconhecer anomalias é uma tarefa um pouco diferente do que estamos acostumados. Vamos treinar o modelo para reconhecer apenas as transações normais, para que ao chegar uma transação anômala, o erro na geração seja maior que o normal.\n",
    "</div>"
   ]
  },
  {
   "cell_type": "code",
   "execution_count": 18,
   "metadata": {
    "slideshow": {
     "slide_type": "-"
    }
   },
   "outputs": [],
   "source": [
    "data = data.drop(['Time'], axis=1)\n",
    "data['Amount'] = StandardScaler().fit_transform(data['Amount'].values.reshape(-1, 1))\n",
    "\n",
    "X_train, X_test = train_test_split(data, test_size=0.2, random_state=42)\n",
    "X_train = X_train[X_train.Class == 0]\n",
    "X_train = X_train.drop(['Class'], axis=1)\n",
    "\n",
    "y_test = X_test['Class']\n",
    "X_test = X_test.drop(['Class'], axis=1)\n",
    "\n",
    "X_train = X_train.values\n",
    "X_test = X_test.values"
   ]
  },
  {
   "cell_type": "markdown",
   "metadata": {
    "slideshow": {
     "slide_type": "slide"
    }
   },
   "source": [
    "### Modelo Autoencoder"
   ]
  },
  {
   "cell_type": "code",
   "execution_count": 19,
   "metadata": {
    "slideshow": {
     "slide_type": "-"
    }
   },
   "outputs": [],
   "source": [
    "input_dim = X_train.shape[1]\n",
    "encoding_dim = 14\n",
    "\n",
    "input_layer = Input(shape=(input_dim, ))\n",
    "\n",
    "# encoder\n",
    "encoder = Dense(encoding_dim, activation='tanh')(input_layer)\n",
    "encoder = Dense(int(encoding_dim / 2), activation='relu')(encoder)\n",
    "\n",
    "# decoder\n",
    "decoder = Dense(int(encoding_dim / 2), activation='tanh')(encoder)\n",
    "decoder = Dense(input_dim, activation='relu')(decoder)\n",
    "\n",
    "# modelo\n",
    "autoencoder = Model(inputs=input_layer, outputs=decoder)\n",
    "autoencoder.compile(optimizer='adam', loss='mean_squared_error', metrics=['accuracy'])"
   ]
  },
  {
   "cell_type": "markdown",
   "metadata": {
    "slideshow": {
     "slide_type": "slide"
    }
   },
   "source": [
    "### Treinando Modelo"
   ]
  },
  {
   "cell_type": "code",
   "execution_count": 20,
   "metadata": {
    "slideshow": {
     "slide_type": "-"
    }
   },
   "outputs": [
    {
     "name": "stdout",
     "output_type": "stream",
     "text": [
      "Train on 227451 samples, validate on 56962 samples\n",
      "Epoch 1/5\n",
      "227451/227451 [==============================] - 15s 64us/sample - loss: 0.8254 - acc: 0.5815 - val_loss: 0.8114 - val_acc: 0.6349\n",
      "Epoch 2/5\n",
      "227451/227451 [==============================] - 15s 65us/sample - loss: 0.7518 - acc: 0.6586 - val_loss: 0.7655 - val_acc: 0.6786\n",
      "Epoch 3/5\n",
      "227451/227451 [==============================] - 13s 59us/sample - loss: 0.7259 - acc: 0.6838 - val_loss: 0.7550 - val_acc: 0.6915\n",
      "Epoch 4/5\n",
      "227451/227451 [==============================] - 13s 58us/sample - loss: 0.7179 - acc: 0.6984 - val_loss: 0.7495 - val_acc: 0.7048\n",
      "Epoch 5/5\n",
      "227451/227451 [==============================] - 13s 58us/sample - loss: 0.7132 - acc: 0.7096 - val_loss: 0.7458 - val_acc: 0.7116\n"
     ]
    }
   ],
   "source": [
    "history = autoencoder.fit(X_train,\n",
    "                          X_train,\n",
    "                          epochs=5,\n",
    "                          batch_size=32,\n",
    "                          shuffle=True,\n",
    "                          validation_data=(X_test, X_test),\n",
    "                          verbose=1).history"
   ]
  },
  {
   "cell_type": "markdown",
   "metadata": {
    "slideshow": {
     "slide_type": "slide"
    }
   },
   "source": [
    "### Erro da Predição"
   ]
  },
  {
   "cell_type": "code",
   "execution_count": 21,
   "metadata": {
    "slideshow": {
     "slide_type": "-"
    }
   },
   "outputs": [
    {
     "data": {
      "text/html": [
       "<div>\n",
       "<style scoped>\n",
       "    .dataframe tbody tr th:only-of-type {\n",
       "        vertical-align: middle;\n",
       "    }\n",
       "\n",
       "    .dataframe tbody tr th {\n",
       "        vertical-align: top;\n",
       "    }\n",
       "\n",
       "    .dataframe thead th {\n",
       "        text-align: right;\n",
       "    }\n",
       "</style>\n",
       "<table border=\"1\" class=\"dataframe\">\n",
       "  <thead>\n",
       "    <tr style=\"text-align: right;\">\n",
       "      <th></th>\n",
       "      <th>reconstruction_error</th>\n",
       "      <th>true_class</th>\n",
       "    </tr>\n",
       "  </thead>\n",
       "  <tbody>\n",
       "    <tr>\n",
       "      <th>count</th>\n",
       "      <td>56962.000000</td>\n",
       "      <td>56962.000000</td>\n",
       "    </tr>\n",
       "    <tr>\n",
       "      <th>mean</th>\n",
       "      <td>0.745822</td>\n",
       "      <td>0.001720</td>\n",
       "    </tr>\n",
       "    <tr>\n",
       "      <th>std</th>\n",
       "      <td>3.512568</td>\n",
       "      <td>0.041443</td>\n",
       "    </tr>\n",
       "    <tr>\n",
       "      <th>min</th>\n",
       "      <td>0.044270</td>\n",
       "      <td>0.000000</td>\n",
       "    </tr>\n",
       "    <tr>\n",
       "      <th>25%</th>\n",
       "      <td>0.238484</td>\n",
       "      <td>0.000000</td>\n",
       "    </tr>\n",
       "    <tr>\n",
       "      <th>50%</th>\n",
       "      <td>0.389000</td>\n",
       "      <td>0.000000</td>\n",
       "    </tr>\n",
       "    <tr>\n",
       "      <th>75%</th>\n",
       "      <td>0.616469</td>\n",
       "      <td>0.000000</td>\n",
       "    </tr>\n",
       "    <tr>\n",
       "      <th>max</th>\n",
       "      <td>267.806029</td>\n",
       "      <td>1.000000</td>\n",
       "    </tr>\n",
       "  </tbody>\n",
       "</table>\n",
       "</div>"
      ],
      "text/plain": [
       "       reconstruction_error    true_class\n",
       "count          56962.000000  56962.000000\n",
       "mean               0.745822      0.001720\n",
       "std                3.512568      0.041443\n",
       "min                0.044270      0.000000\n",
       "25%                0.238484      0.000000\n",
       "50%                0.389000      0.000000\n",
       "75%                0.616469      0.000000\n",
       "max              267.806029      1.000000"
      ]
     },
     "execution_count": 21,
     "metadata": {},
     "output_type": "execute_result"
    }
   ],
   "source": [
    "predictions = autoencoder.predict(X_test)\n",
    "\n",
    "mse = numpy.mean(numpy.power(X_test - predictions, 2), axis=1)\n",
    "\n",
    "error = pandas.DataFrame({'reconstruction_error': mse, 'true_class': y_test})\n",
    "error.describe()"
   ]
  },
  {
   "cell_type": "markdown",
   "metadata": {
    "slideshow": {
     "slide_type": "slide"
    }
   },
   "source": [
    "### Erro de Reconstrução - Transações Normais"
   ]
  },
  {
   "cell_type": "code",
   "execution_count": 22,
   "metadata": {
    "slideshow": {
     "slide_type": "-"
    }
   },
   "outputs": [
    {
     "data": {
      "image/png": "[encoded data removed]",
      "text/plain": [
       "<Figure size 864x432 with 1 Axes>"
      ]
     },
     "metadata": {
      "needs_background": "light"
     },
     "output_type": "display_data"
    }
   ],
   "source": [
    "fig = plt.figure()\n",
    "ax = fig.add_subplot(111)\n",
    "normal = error[(error['true_class'] == 0) & (error['reconstruction_error'] < 10)]\n",
    "_ = ax.hist(normal.reconstruction_error.values, bins=10)"
   ]
  },
  {
   "cell_type": "markdown",
   "metadata": {
    "slideshow": {
     "slide_type": "slide"
    }
   },
   "source": [
    "### Erro de Reconstrução - Fraudes"
   ]
  },
  {
   "cell_type": "code",
   "execution_count": 23,
   "metadata": {
    "slideshow": {
     "slide_type": "-"
    }
   },
   "outputs": [
    {
     "data": {
      "image/png": "[encoded data removed]",
      "text/plain": [
       "<Figure size 864x432 with 1 Axes>"
      ]
     },
     "metadata": {
      "needs_background": "light"
     },
     "output_type": "display_data"
    }
   ],
   "source": [
    "fig = plt.figure()\n",
    "ax = fig.add_subplot(111)\n",
    "fraud = error[(error['true_class'] == 1)]\n",
    "_ = ax.hist(fraud.reconstruction_error.values, bins=10)"
   ]
  },
  {
   "cell_type": "markdown",
   "metadata": {
    "slideshow": {
     "slide_type": "skip"
    }
   },
   "source": [
    "### Reconstrução"
   ]
  },
  {
   "cell_type": "code",
   "execution_count": 24,
   "metadata": {
    "slideshow": {
     "slide_type": "slide"
    }
   },
   "outputs": [
    {
     "data": {
      "image/png": "[encoded data removed]",
      "text/plain": [
       "<Figure size 864x432 with 1 Axes>"
      ]
     },
     "metadata": {
      "needs_background": "light"
     },
     "output_type": "display_data"
    }
   ],
   "source": [
    "threshold = 3.0\n",
    "groups = error.groupby('true_class')\n",
    "fig, ax = plt.subplots()\n",
    "for name, group in groups:\n",
    "    label = 'Fraud' if name == 1 else 'Normal'\n",
    "    ax.plot(group.index, group.reconstruction_error, marker='o', ms=3.5, linestyle='', label=label)\n",
    "    \n",
    "ax.hlines(threshold, ax.get_xlim()[0], ax.get_xlim()[1], colors='r', zorder=100, label='Threshold')\n",
    "ax.legend()\n",
    "plt.title('Erro de Reconstrução Para Diferentes Classes')\n",
    "plt.ylabel('Erro de Reconstrução')\n",
    "plt.xlabel('Index')\n",
    "plt.show()"
   ]
  },
  {
   "cell_type": "markdown",
   "metadata": {
    "slideshow": {
     "slide_type": "slide"
    }
   },
   "source": [
    "### Matrix de Confusão"
   ]
  },
  {
   "cell_type": "code",
   "execution_count": 25,
   "metadata": {
    "slideshow": {
     "slide_type": "-"
    }
   },
   "outputs": [
    {
     "data": {
      "text/plain": [
       "array([[55552,  1312],\n",
       "       [   17,    81]])"
      ]
     },
     "execution_count": 25,
     "metadata": {},
     "output_type": "execute_result"
    }
   ],
   "source": [
    "y_pred = [1 if e > threshold else 0 for e in error.reconstruction_error.values]\n",
    "confusion_matrix(error.true_class, y_pred)"
   ]
  }
 ],
 "metadata": {
  "celltoolbar": "Slideshow",
  "kernelspec": {
   "display_name": "Python 3",
   "language": "python",
   "name": "python3"
  },
  "language_info": {
   "codemirror_mode": {
    "name": "ipython",
    "version": 3
   },
   "file_extension": ".py",
   "mimetype": "text/x-python",
   "name": "python",
   "nbconvert_exporter": "python",
   "pygments_lexer": "ipython3",
   "version": "3.7.4"
  }
 },
 "nbformat": 4,
 "nbformat_minor": 2
}
